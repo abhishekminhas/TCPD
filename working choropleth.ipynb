{
 "cells": [
  {
   "cell_type": "code",
   "execution_count": 1,
   "metadata": {},
   "outputs": [
    {
     "data": {
      "text/html": [
       "        <script type=\"text/javascript\">\n",
       "        window.PlotlyConfig = {MathJaxConfig: 'local'};\n",
       "        if (window.MathJax) {MathJax.Hub.Config({SVG: {font: \"STIX-Web\"}});}\n",
       "        if (typeof require !== 'undefined') {\n",
       "        require.undef(\"plotly\");\n",
       "        requirejs.config({\n",
       "            paths: {\n",
       "                'plotly': ['https://cdn.plot.ly/plotly-latest.min']\n",
       "            }\n",
       "        });\n",
       "        require(['plotly'], function(Plotly) {\n",
       "            window._Plotly = Plotly;\n",
       "        });\n",
       "        }\n",
       "        </script>\n",
       "        "
      ]
     },
     "metadata": {},
     "output_type": "display_data"
    }
   ],
   "source": [
    "import plotly.express as px\n",
    "import json\n",
    "import pandas as pd\n",
    "import plotly.graph_objects as go\n",
    "from plotly.offline import download_plotlyjs, init_notebook_mode, plot, iplot \n",
    "init_notebook_mode(connected=True)"
   ]
  },
  {
   "cell_type": "code",
   "execution_count": 2,
   "metadata": {},
   "outputs": [],
   "source": [
    "india_states= json.load(open('states_india.geojson', 'r'))"
   ]
  },
  {
   "cell_type": "code",
   "execution_count": 3,
   "metadata": {},
   "outputs": [],
   "source": [
    "df=pd.read_html(\"https://en.wikipedia.org/wiki/List_of_states_and_union_territories_of_India_by_population\")"
   ]
  },
  {
   "cell_type": "code",
   "execution_count": 4,
   "metadata": {},
   "outputs": [],
   "source": [
    "df= df[1]"
   ]
  },
  {
   "cell_type": "code",
   "execution_count": 5,
   "metadata": {},
   "outputs": [],
   "source": [
    "df['Density']=df['Density[a]'].apply(lambda x: x.split(\"/\")[0].replace(\",\",\"\"))"
   ]
  },
  {
   "cell_type": "code",
   "execution_count": 6,
   "metadata": {},
   "outputs": [],
   "source": [
    "state_id_map={}\n",
    "for feature in india_states['features']:\n",
    "    feature['id']=feature['properties']['state_code']\n",
    "    state_id_map[feature['properties']['st_nm']]=feature['id']"
   ]
  },
  {
   "cell_type": "code",
   "execution_count": 7,
   "metadata": {
    "scrolled": false
   },
   "outputs": [
    {
     "name": "stderr",
     "output_type": "stream",
     "text": [
      "<ipython-input-7-1db1946359af>:1: SettingWithCopyWarning:\n",
      "\n",
      "\n",
      "A value is trying to be set on a copy of a slice from a DataFrame\n",
      "\n",
      "See the caveats in the documentation: https://pandas.pydata.org/pandas-docs/stable/user_guide/indexing.html#returning-a-view-versus-a-copy\n",
      "\n",
      "<ipython-input-7-1db1946359af>:2: SettingWithCopyWarning:\n",
      "\n",
      "\n",
      "A value is trying to be set on a copy of a slice from a DataFrame\n",
      "\n",
      "See the caveats in the documentation: https://pandas.pydata.org/pandas-docs/stable/user_guide/indexing.html#returning-a-view-versus-a-copy\n",
      "\n",
      "<ipython-input-7-1db1946359af>:3: SettingWithCopyWarning:\n",
      "\n",
      "\n",
      "A value is trying to be set on a copy of a slice from a DataFrame\n",
      "\n",
      "See the caveats in the documentation: https://pandas.pydata.org/pandas-docs/stable/user_guide/indexing.html#returning-a-view-versus-a-copy\n",
      "\n",
      "<ipython-input-7-1db1946359af>:4: SettingWithCopyWarning:\n",
      "\n",
      "\n",
      "A value is trying to be set on a copy of a slice from a DataFrame\n",
      "\n",
      "See the caveats in the documentation: https://pandas.pydata.org/pandas-docs/stable/user_guide/indexing.html#returning-a-view-versus-a-copy\n",
      "\n",
      "C:\\Users\\abhishek\\anaconda3\\lib\\site-packages\\pandas\\core\\indexing.py:670: SettingWithCopyWarning:\n",
      "\n",
      "\n",
      "A value is trying to be set on a copy of a slice from a DataFrame\n",
      "\n",
      "See the caveats in the documentation: https://pandas.pydata.org/pandas-docs/stable/user_guide/indexing.html#returning-a-view-versus-a-copy\n",
      "\n"
     ]
    }
   ],
   "source": [
    "df['State or union territory'][19]=\"Jammu & Kashmir\"\n",
    "df['State or union territory'][27]=\"Arunanchal Pradesh\"\n",
    "df['State or union territory'][24]=\"Manipur\"\n",
    "df['State or union territory'][33]= \"Andaman & Nicobar Island\"\n",
    "daman= df.iloc[32]\n",
    "df=df.append(daman)\n",
    "df['State or union territory'].iloc[32]='Dadara & Nagar Havelli'\n",
    "df['State or union territory'].iloc[37]='Daman & Diu'\n",
    "df=df.drop(axis=0, labels=[36,34])"
   ]
  },
  {
   "cell_type": "code",
   "execution_count": 8,
   "metadata": {},
   "outputs": [],
   "source": [
    "df['id']=df['State or union territory'].apply(lambda x:state_id_map[x])"
   ]
  },
  {
   "cell_type": "code",
   "execution_count": 9,
   "metadata": {},
   "outputs": [],
   "source": [
    "df['Density']=df['Density'].apply(lambda x: int(x))"
   ]
  },
  {
   "cell_type": "code",
   "execution_count": 10,
   "metadata": {},
   "outputs": [
    {
     "name": "stdout",
     "output_type": "stream",
     "text": [
      "Wall time: 16.2 s\n"
     ]
    },
    {
     "data": {
      "text/plain": [
       "'temp-plot.html'"
      ]
     },
     "execution_count": 10,
     "metadata": {},
     "output_type": "execute_result"
    }
   ],
   "source": [
    "%%time\n",
    "fig=px.choropleth(df,\n",
    "                  geojson=india_states,\n",
    "                  locations='id',\n",
    "                  color='Density')\n",
    "fig.update_geos(fitbounds='locations',\n",
    "               visible=False)\n",
    "plot(fig)"
   ]
  },
  {
   "cell_type": "code",
   "execution_count": 11,
   "metadata": {},
   "outputs": [],
   "source": [
    "import pandas as pd\n",
    "import plotly.express as px\n",
    "import plotly.graph_objects as go\n",
    "\n",
    "import dash\n",
    "import dash_core_components as dcc\n",
    "import dash_html_components as html\n",
    "from dash.dependencies import Input, Output"
   ]
  },
  {
   "cell_type": "code",
   "execution_count": null,
   "metadata": {},
   "outputs": [
    {
     "name": "stdout",
     "output_type": "stream",
     "text": [
      "Dash is running on http://127.0.0.1:8050/\n",
      "\n",
      " * Serving Flask app \"__main__\" (lazy loading)\n",
      " * Environment: production\n",
      "   WARNING: This is a development server. Do not use it in a production deployment.\n",
      "   Use a production WSGI server instead.\n",
      " * Debug mode: off\n"
     ]
    },
    {
     "name": "stderr",
     "output_type": "stream",
     "text": [
      " * Running on http://127.0.0.1:8050/ (Press CTRL+C to quit)\n",
      "127.0.0.1 - - [03/Apr/2021 20:39:15] \"\u001b[37mGET / HTTP/1.1\u001b[0m\" 200 -\n",
      "127.0.0.1 - - [03/Apr/2021 20:39:15] \"\u001b[37mGET /_dash-layout HTTP/1.1\u001b[0m\" 200 -\n",
      "127.0.0.1 - - [03/Apr/2021 20:39:15] \"\u001b[37mGET /_dash-dependencies HTTP/1.1\u001b[0m\" 200 -\n",
      "127.0.0.1 - - [03/Apr/2021 20:39:15] \"\u001b[37mGET /_favicon.ico?v=1.19.0 HTTP/1.1\u001b[0m\" 200 -\n"
     ]
    },
    {
     "name": "stdout",
     "output_type": "stream",
     "text": [
      "2015\n",
      "<class 'int'>\n"
     ]
    },
    {
     "name": "stderr",
     "output_type": "stream",
     "text": [
      "127.0.0.1 - - [03/Apr/2021 20:39:23] \"\u001b[37mPOST /_dash-update-component HTTP/1.1\u001b[0m\" 200 -\n"
     ]
    },
    {
     "name": "stdout",
     "output_type": "stream",
     "text": [
      "2016\n",
      "<class 'int'>\n"
     ]
    },
    {
     "name": "stderr",
     "output_type": "stream",
     "text": [
      "127.0.0.1 - - [03/Apr/2021 20:39:46] \"\u001b[37mPOST /_dash-update-component HTTP/1.1\u001b[0m\" 200 -\n"
     ]
    }
   ],
   "source": [
    "app= dash.Dash(__name__)\n",
    "\n",
    "#APP LAYOUT\n",
    "\n",
    "app.layout = html.Div([\n",
    "    \n",
    "    html.H1(\"this is the center aligned header of the page\",\n",
    "            style={'text-align':'center'}),\n",
    "    \n",
    "    dcc.Dropdown(id='Select_year',\n",
    "                options=[\n",
    "                    {\"label\": \"2015\", \"value\":2015},   # users see the labels, value maps it to the data\n",
    "                    {\"label\": \"2016\", \"value\":2016} ], # value has to be the same as data, not necessatily a number\n",
    "                 multi=False, # maybe only one dropdown value can be selected \n",
    "                 value=2015, # default/initial value \n",
    "                 style={'width':\"40%\"}\n",
    "                ),\n",
    "    \n",
    "    html.Div(id='output container', children=[]), #this is used to write a scentence. \n",
    "                                                  #callback outputs to children and figure\n",
    "    html.Br(),\n",
    "    \n",
    "    dcc.Graph( id='name_of_graph', figure={})\n",
    "    \n",
    "    \n",
    "    \n",
    "])\n",
    "#=========== if we plot this only then we get an empty graph because theres nothing in there=======\n",
    "#=== we use calllback to connect the dash component with the graph that is inside the app layout===\n",
    "# callback has an input (that takes the data you have) and an output (that sends data to the app layout)\n",
    "\n",
    "\n",
    "\n",
    "@app.callback(\n",
    "                [Output(component_id='output container', component_property='children')], #see html.Div\n",
    "                [Output(component_id='name_of_graph', component_property='figure')], #see graph\n",
    "                [Input (component_id='Select_year', component_property='value')]\n",
    "\n",
    "\n",
    "#dont use a list if there's only one output     \n",
    "# Its called a callback because function takes the input from and gives the output to the app layout.\n",
    "# Since we have only one input here, the drop down menu,\n",
    "# the function tahes the year se;ected, filters the data accordiongly and sends it back (output)\n",
    "# to the app layout. here we have 2 outputs, figure and the children\n",
    ")\n",
    "#under each callback we need to define a function which actually does the work explained above\n",
    "#component property of each input is an argument of the function.\n",
    "#here we have only one, the value selected from the dropdown menu\n",
    "#this function is where the figure is plotted again everytime some value is selected\n",
    "#the what the function returns goes inside the Output of the callback \n",
    "#so its important to make sure number and the order of arguments match\n",
    "\n",
    "\n",
    "\n",
    "def update_graph(option_selected):\n",
    "    print(option_selected)           #just good practice\n",
    "    print(type(option_selected))     #just good practice\n",
    "    \n",
    "    container = \"The year chosen by the you is : {}\".format(option_selected) \n",
    "    #format fills the value in. this scentence will be connected to children and be displayed \n",
    "    \n",
    "    # make a copy of the dataframe so as to not accidentalaly edit it\n",
    "    #dff = df.copy()\n",
    "    \n",
    "    #rows filtering acc to the value selected by user\n",
    "    #consider writing a second filter oputside this when needed\n",
    "    #dff = dff[dff[\"Year\"] == option_selected]\n",
    "    \n",
    "    #plotting the choropleth figure again\n",
    "    #fig = px.choropleth(dff, the filtered dataframe)\n",
    "    fig=px.choropleth(df,\n",
    "                  geojson=india_states,\n",
    "                  locations='id',\n",
    "                  color='Density')\n",
    "    fig.update_geos(fitbounds='locations',\n",
    "               visible=False)\n",
    "\n",
    "    \n",
    "    #remember the order of the outputs\n",
    "    return container, fig\n",
    "    \n",
    "\n",
    "    \n",
    "    \n",
    "\n",
    "if  __name__== '__main__':\n",
    "    app.run_server(debug=False)"
   ]
  },
  {
   "cell_type": "code",
   "execution_count": null,
   "metadata": {},
   "outputs": [],
   "source": []
  }
 ],
 "metadata": {
  "kernelspec": {
   "display_name": "Python 3",
   "language": "python",
   "name": "python3"
  },
  "language_info": {
   "codemirror_mode": {
    "name": "ipython",
    "version": 3
   },
   "file_extension": ".py",
   "mimetype": "text/x-python",
   "name": "python",
   "nbconvert_exporter": "python",
   "pygments_lexer": "ipython3",
   "version": "3.8.5"
  }
 },
 "nbformat": 4,
 "nbformat_minor": 4
}
